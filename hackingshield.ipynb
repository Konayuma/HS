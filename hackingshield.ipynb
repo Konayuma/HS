{
  "nbformat": 4,
  "nbformat_minor": 0,
  "metadata": {
    "colab": {
      "provenance": [],
      "include_colab_link": true
    },
    "kernelspec": {
      "name": "python3",
      "display_name": "Python 3"
    },
    "language_info": {
      "name": "python"
    }
  },
  "cells": [
    {
      "cell_type": "markdown",
      "metadata": {
        "id": "view-in-github",
        "colab_type": "text"
      },
      "source": [
        "<a href=\"https://colab.research.google.com/github/Konayuma/HS/blob/main/hackingshield.ipynb\" target=\"_parent\"><img src=\"https://colab.research.google.com/assets/colab-badge.svg\" alt=\"Open In Colab\"/></a>"
      ]
    },
    {
      "cell_type": "code",
      "execution_count": 1,
      "metadata": {
        "colab": {
          "base_uri": "https://localhost:8080/"
        },
        "id": "8pVBKqlrn4JH",
        "outputId": "e760ddac-f87e-42c3-b8db-66e8bda77b3d"
      },
      "outputs": [
        {
          "output_type": "stream",
          "name": "stdout",
          "text": [
            "Generated 1000 SQL injection samples and saved to sql_injection_samples.txt.\n"
          ]
        }
      ],
      "source": [
        "import random\n",
        "\n",
        "def generate_sql_injections(num_samples=1000):\n",
        "    injections = []\n",
        "    usernames = ['admin', 'user', 'guest', 'test', 'root', 'alice', 'bob', 'charlie', 'eve', 'mallory']\n",
        "\n",
        "    for _ in range(num_samples):\n",
        "        username = random.choice(usernames)\n",
        "\n",
        "        # List of SQL injection patterns\n",
        "        injection_patterns = [\n",
        "            f\"SELECT * FROM users WHERE username = '{username}' --\",\n",
        "            f\"SELECT * FROM users WHERE username = '{username}' OR '1'='1';\",\n",
        "            f\"SELECT * FROM users WHERE username = '{username}' AND password = '' OR '1'='1';\",\n",
        "            f\"SELECT * FROM users WHERE username = '{username}' UNION SELECT * FROM users;\",\n",
        "            f\"SELECT * FROM users WHERE username = '{username}' AND 'x'='x';\",\n",
        "            f\"SELECT * FROM users WHERE username = '{username}' OR EXISTS(SELECT * FROM users);\",\n",
        "            f\"SELECT * FROM users WHERE username = '{username}' OR 1=1 LIMIT 1; --\",\n",
        "            f\"SELECT * FROM users WHERE username = '{username}' AND 'a'='a' OR '1'='1';\",\n",
        "            f\"SELECT * FROM users WHERE username = '{username}' OR (SELECT COUNT(*) FROM users) > 0;\",\n",
        "            f\"SELECT * FROM users WHERE username = '{username}' AND (SELECT user FROM users WHERE '1'='1')='1';\",\n",
        "            f\"SELECT * FROM users WHERE username = '{username}' AND password = 'password' OR 'x'='x';\",\n",
        "            f\"SELECT * FROM users WHERE username = '{username}' AND (SELECT 1 FROM dual) IS NOT NULL;\",\n",
        "            f\"SELECT * FROM users WHERE username = '{username}' UNION SELECT username, password FROM users;\",\n",
        "            f\"SELECT * FROM users WHERE username = '{username}' AND '1'='2' UNION SELECT 'hacked', '123';\"\n",
        "        ]\n",
        "\n",
        "        injection = random.choice(injection_patterns)\n",
        "        injections.append(injection)\n",
        "\n",
        "    return injections\n",
        "\n",
        "# Generate the SQL injection samples\n",
        "sql_injection_data = generate_sql_injections(1000)\n",
        "\n",
        "# Save to a file\n",
        "with open('sql_injection_samples.txt', 'w') as f:\n",
        "    for line in sql_injection_data:\n",
        "        f.write(line + '\\n')\n",
        "\n",
        "print(\"Generated 1000 SQL injection samples and saved to sql_injection_samples.txt.\")\n"
      ]
    },
    {
      "cell_type": "code",
      "source": [
        "import pandas as pd\n",
        "\n",
        "# Load the SQL injection samples\n",
        "with open('sql_injection_samples.txt', 'r') as file:\n",
        "    injections = [(line.strip(), 1) for line in file.readlines()]  # Mark as harmful\n",
        "\n",
        "# Load some benign queries as well (for demonstration)\n",
        "benign_data = [\n",
        "    (\"SELECT * FROM users WHERE username = 'alice' AND password = 'securePass';\", 0),\n",
        "    (\"SELECT username, email FROM users WHERE id = 1;\", 0),\n",
        "    (\"SELECT COUNT(*) FROM users;\", 0),\n",
        "]\n",
        "\n",
        "# Combine the datasets\n",
        "data = injections + benign_data\n",
        "df = pd.DataFrame(data, columns=['query', 'label'])\n"
      ],
      "metadata": {
        "id": "5VXAE0YEor2p"
      },
      "execution_count": 2,
      "outputs": []
    },
    {
      "cell_type": "code",
      "source": [
        "from sklearn.feature_extraction.text import TfidfVectorizer\n",
        "\n",
        "# Create TF-IDF vectors\n",
        "vectorizer = TfidfVectorizer()\n",
        "X = vectorizer.fit_transform(df['query'])\n",
        "y = df['label']\n"
      ],
      "metadata": {
        "id": "H8EKUJy7oym4"
      },
      "execution_count": 3,
      "outputs": []
    },
    {
      "cell_type": "code",
      "source": [
        "from sklearn.model_selection import train_test_split\n",
        "from sklearn.linear_model import LogisticRegression\n",
        "from sklearn.metrics import classification_report, confusion_matrix\n",
        "\n",
        "# Split the dataset into training and testing sets\n",
        "X_train, X_test, y_train, y_test = train_test_split(X, y, test_size=0.2, random_state=42)\n",
        "\n",
        "# Train the model\n",
        "model = LogisticRegression()\n",
        "model.fit(X_train, y_train)\n",
        "\n",
        "# Make predictions\n",
        "y_pred = model.predict(X_test)\n",
        "\n",
        "# Evaluate the model\n",
        "print(confusion_matrix(y_test, y_pred))\n",
        "print(classification_report(y_test, y_pred))\n"
      ],
      "metadata": {
        "colab": {
          "base_uri": "https://localhost:8080/"
        },
        "id": "aP9QQRBupBwo",
        "outputId": "2bb6ded2-9f6c-4076-c933-dba8cc248d2e"
      },
      "execution_count": 4,
      "outputs": [
        {
          "output_type": "stream",
          "name": "stdout",
          "text": [
            "[[201]]\n",
            "              precision    recall  f1-score   support\n",
            "\n",
            "           1       1.00      1.00      1.00       201\n",
            "\n",
            "    accuracy                           1.00       201\n",
            "   macro avg       1.00      1.00      1.00       201\n",
            "weighted avg       1.00      1.00      1.00       201\n",
            "\n"
          ]
        },
        {
          "output_type": "stream",
          "name": "stderr",
          "text": [
            "/usr/local/lib/python3.10/dist-packages/sklearn/metrics/_classification.py:409: UserWarning: A single label was found in 'y_true' and 'y_pred'. For the confusion matrix to have the correct shape, use the 'labels' parameter to pass all known labels.\n",
            "  warnings.warn(\n"
          ]
        }
      ]
    },
    {
      "cell_type": "code",
      "source": [
        "from sklearn.metrics import accuracy_score\n",
        "\n",
        "# Calculate accuracy\n",
        "accuracy = accuracy_score(y_test, y_pred)\n",
        "print(f\"Model Accuracy: {accuracy * 100:.2f}%\")\n"
      ],
      "metadata": {
        "colab": {
          "base_uri": "https://localhost:8080/"
        },
        "id": "Dkww9jNcpi0n",
        "outputId": "7450f659-5adc-4302-92cb-5eddb1e7dea0"
      },
      "execution_count": 5,
      "outputs": [
        {
          "output_type": "stream",
          "name": "stdout",
          "text": [
            "Model Accuracy: 100.00%\n"
          ]
        }
      ]
    },
    {
      "cell_type": "code",
      "source": [
        "def predict_injection(query):\n",
        "    query_vector = vectorizer.transform([query])\n",
        "    prediction = model.predict(query_vector)\n",
        "    return \"Harmful\" if prediction[0] == 1 else \"Benign\"\n",
        "\n",
        "# Example usage\n",
        "print(predict_injection(\"SELECT * FROM users WHERE username = 'admin' --\"))\n",
        "print(predict_injection(\"SELECT * FROM users WHERE username = 'alice' AND password = 'securePass';\"))\n"
      ],
      "metadata": {
        "colab": {
          "base_uri": "https://localhost:8080/"
        },
        "id": "09YVCixwpR3w",
        "outputId": "78d87335-f725-4331-fcf9-a4f315ec4f38"
      },
      "execution_count": 6,
      "outputs": [
        {
          "output_type": "stream",
          "name": "stdout",
          "text": [
            "Harmful\n",
            "Harmful\n"
          ]
        }
      ]
    },
    {
      "cell_type": "code",
      "source": [
        "# List of harmless SQL queries to test\n",
        "harmless_queries = [\n",
        "    \"SELECT * FROM users WHERE username = 'alice' AND password = 'securePass';\",\n",
        "    \"SELECT username, email FROM users WHERE id = 1;\",\n",
        "    \"SELECT COUNT(*) FROM users;\",\n",
        "    \"SELECT * FROM products WHERE price < 100;\",\n",
        "    \"SELECT name FROM employees WHERE department = 'sales';\"\n",
        "]\n",
        "\n",
        "# Test the model with harmless queries\n",
        "for query in harmless_queries:\n",
        "    result = predict_injection(query)\n",
        "    print(f\"Query: {query} -> Prediction: {result}\")\n"
      ],
      "metadata": {
        "colab": {
          "base_uri": "https://localhost:8080/"
        },
        "id": "l86g7fUppvlA",
        "outputId": "2b3331b5-3a14-4f00-d404-5a3b0c337c41"
      },
      "execution_count": 7,
      "outputs": [
        {
          "output_type": "stream",
          "name": "stdout",
          "text": [
            "Query: SELECT * FROM users WHERE username = 'alice' AND password = 'securePass'; -> Prediction: Harmful\n",
            "Query: SELECT username, email FROM users WHERE id = 1; -> Prediction: Harmful\n",
            "Query: SELECT COUNT(*) FROM users; -> Prediction: Harmful\n",
            "Query: SELECT * FROM products WHERE price < 100; -> Prediction: Harmful\n",
            "Query: SELECT name FROM employees WHERE department = 'sales'; -> Prediction: Harmful\n"
          ]
        }
      ]
    },
    {
      "cell_type": "markdown",
      "source": [
        "The IMmroved version"
      ],
      "metadata": {
        "id": "2FemXPYlq9Vx"
      }
    },
    {
      "cell_type": "code",
      "source": [
        "import random\n",
        "import pandas as pd\n",
        "\n",
        "# Function to generate harmful SQL injection queries\n",
        "def generate_harmful_queries(num_samples=1000):\n",
        "    usernames = ['admin', 'user', 'guest', 'test', 'root', 'alice', 'bob', 'charlie', 'eve', 'mallory']\n",
        "    injections = []\n",
        "\n",
        "    for _ in range(num_samples):\n",
        "        username = random.choice(usernames)\n",
        "        injection_patterns = [\n",
        "            f\"SELECT * FROM users WHERE username = '{username}' --\",\n",
        "            f\"SELECT * FROM users WHERE username = '{username}' OR '1'='1';\",\n",
        "            f\"SELECT * FROM users WHERE username = '{username}' AND password = '' OR '1'='1';\",\n",
        "            f\"SELECT * FROM users WHERE username = '{username}' UNION SELECT * FROM users;\",\n",
        "            f\"SELECT * FROM users WHERE username = '{username}' AND 'x'='x';\",\n",
        "            f\"SELECT * FROM users WHERE username = '{username}' OR EXISTS(SELECT * FROM users);\",\n",
        "            f\"SELECT * FROM users WHERE username = '{username}' OR 1=1 LIMIT 1; --\",\n",
        "            f\"SELECT * FROM users WHERE username = '{username}' AND '1'='2' UNION SELECT 'hacked', '123';\"\n",
        "        ]\n",
        "        injection = random.choice(injection_patterns)\n",
        "        injections.append((injection, 1))  # Mark as harmful (1)\n",
        "\n",
        "    return injections\n",
        "\n",
        "# Function to generate harmless SQL queries\n",
        "def generate_harmless_queries(num_samples=1000):\n",
        "    benign_queries = [\n",
        "        \"SELECT * FROM users WHERE username = 'alice' AND password = 'securePass';\",\n",
        "        \"SELECT username, email FROM users WHERE id = 1;\",\n",
        "        \"SELECT COUNT(*) FROM users;\",\n",
        "        \"SELECT * FROM products WHERE price < 100;\",\n",
        "        \"SELECT name FROM employees WHERE department = 'sales';\",\n",
        "        \"INSERT INTO users (username, password) VALUES ('testUser', 'testPass');\",\n",
        "        \"UPDATE users SET last_login = NOW() WHERE username = 'bob';\",\n",
        "        \"DELETE FROM users WHERE id = 10;\"\n",
        "    ]\n",
        "\n",
        "    harmless_samples = []\n",
        "    for _ in range(num_samples):\n",
        "        harmless_query = random.choice(benign_queries)\n",
        "        harmless_samples.append((harmless_query, 0))  # Mark as harmless (0)\n",
        "\n",
        "    return harmless_samples\n",
        "\n",
        "# Generate both harmful and harmless queries\n",
        "harmful_data = generate_harmful_queries(1000)\n",
        "harmless_data = generate_harmless_queries(1000)\n",
        "\n",
        "# Combine data and create DataFrame\n",
        "data = harmful_data + harmless_data\n",
        "df = pd.DataFrame(data, columns=['query', 'label'])\n",
        "\n",
        "# Shuffle the DataFrame to mix harmful and harmless queries\n",
        "df = df.sample(frac=1, random_state=42).reset_index(drop=True)\n",
        "\n",
        "# Save to a CSV file\n",
        "df.to_csv('sql_queries_dataset.csv', index=False)\n",
        "\n",
        "print(\"Generated 2000 SQL queries (1000 harmful and 1000 harmless) and saved to sql_queries_dataset.csv.\")\n"
      ],
      "metadata": {
        "colab": {
          "base_uri": "https://localhost:8080/"
        },
        "id": "EW6Vs4neqRN1",
        "outputId": "e2afd232-c72e-4b6a-acef-9875110cb3c4"
      },
      "execution_count": 8,
      "outputs": [
        {
          "output_type": "stream",
          "name": "stdout",
          "text": [
            "Generated 2000 SQL queries (1000 harmful and 1000 harmless) and saved to sql_queries_dataset.csv.\n"
          ]
        }
      ]
    },
    {
      "cell_type": "code",
      "source": [
        "import pandas as pd\n",
        "from sklearn.model_selection import train_test_split\n",
        "from sklearn.linear_model import LogisticRegression\n",
        "from sklearn.metrics import classification_report, confusion_matrix, accuracy_score\n",
        "from sklearn.feature_extraction.text import TfidfVectorizer\n",
        "\n",
        "# Step 1: Load the dataset\n",
        "df = pd.read_csv('sql_queries_dataset.csv')\n",
        "\n",
        "# Step 2: Feature extraction using TF-IDF\n",
        "vectorizer = TfidfVectorizer()\n",
        "X = vectorizer.fit_transform(df['query'])\n",
        "y = df['label']\n",
        "\n",
        "# Step 3: Split the dataset into training and testing sets\n",
        "X_train, X_test, y_train, y_test = train_test_split(X, y, test_size=0.2, random_state=42)\n",
        "\n",
        "# Train the model\n",
        "model = LogisticRegression()\n",
        "model.fit(X_train, y_train)\n",
        "\n",
        "# Make predictions\n",
        "y_pred = model.predict(X_test)\n",
        "\n",
        "# Evaluate the model\n",
        "print(confusion_matrix(y_test, y_pred))\n",
        "print(classification_report(y_test, y_pred))\n",
        "\n",
        "# Calculate and print accuracy\n",
        "accuracy = accuracy_score(y_test, y_pred)\n",
        "print(f\"Model Accuracy: {accuracy * 100:.2f}%\")\n"
      ],
      "metadata": {
        "colab": {
          "base_uri": "https://localhost:8080/"
        },
        "id": "vQyMiA4Iqdlh",
        "outputId": "b2fa5a3a-d70a-4adf-db86-183f573fbdee"
      },
      "execution_count": 9,
      "outputs": [
        {
          "output_type": "stream",
          "name": "stdout",
          "text": [
            "[[203   0]\n",
            " [  0 197]]\n",
            "              precision    recall  f1-score   support\n",
            "\n",
            "           0       1.00      1.00      1.00       203\n",
            "           1       1.00      1.00      1.00       197\n",
            "\n",
            "    accuracy                           1.00       400\n",
            "   macro avg       1.00      1.00      1.00       400\n",
            "weighted avg       1.00      1.00      1.00       400\n",
            "\n",
            "Model Accuracy: 100.00%\n"
          ]
        }
      ]
    },
    {
      "cell_type": "code",
      "source": [
        "# List of harmful SQL queries to test\n",
        "harmful_queries = [\n",
        "    \"SELECT * FROM users WHERE username = 'admin' --\",\n",
        "    \"SELECT * FROM users WHERE username = 'user' OR '1'='1';\",\n",
        "    \"SELECT * FROM users WHERE username = 'guest' AND password = '' OR '1'='1';\",\n",
        "    \"SELECT * FROM users WHERE username = 'admin' UNION SELECT * FROM users;\",\n",
        "    \"SELECT * FROM users WHERE username = 'bob' AND '1'='1';\"\n",
        "]\n",
        "\n",
        "# List of harmless SQL queries to test\n",
        "harmless_queries = [\n",
        "    \"SELECT * FROM users WHERE username = 'alice' AND password = 'securePass';\",\n",
        "    \"SELECT username, email FROM users WHERE id = 1;\",\n",
        "    \"SELECT COUNT(*) FROM users;\",\n",
        "    \"SELECT * FROM products WHERE price < 100;\",\n",
        "    \"INSERT INTO users (username, password) VALUES ('newUser', 'newPass');\"\n",
        "]\n",
        "\n",
        "# Function to predict injection type\n",
        "def predict_injection(query):\n",
        "    query_vector = vectorizer.transform([query])\n",
        "    prediction = model.predict(query_vector)\n",
        "    return \"Harmful\" if prediction[0] == 1 else \"Benign\"\n",
        "\n",
        "# Test the model with harmful queries\n",
        "print(\"Testing Harmful Queries:\")\n",
        "for query in harmful_queries:\n",
        "    result = predict_injection(query)\n",
        "    print(f\"Query: {query} -> Prediction: {result}\")\n",
        "\n",
        "# Test the model with harmless queries\n",
        "print(\"\\nTesting Harmless Queries:\")\n",
        "for query in harmless_queries:\n",
        "    result = predict_injection(query)\n",
        "    print(f\"Query: {query} -> Prediction: {result}\")\n"
      ],
      "metadata": {
        "colab": {
          "base_uri": "https://localhost:8080/"
        },
        "id": "N_rc2wHWqvbB",
        "outputId": "60cd9c1c-b824-465a-bd73-8a50e3d2166f"
      },
      "execution_count": 10,
      "outputs": [
        {
          "output_type": "stream",
          "name": "stdout",
          "text": [
            "Testing Harmful Queries:\n",
            "Query: SELECT * FROM users WHERE username = 'admin' -- -> Prediction: Harmful\n",
            "Query: SELECT * FROM users WHERE username = 'user' OR '1'='1'; -> Prediction: Harmful\n",
            "Query: SELECT * FROM users WHERE username = 'guest' AND password = '' OR '1'='1'; -> Prediction: Harmful\n",
            "Query: SELECT * FROM users WHERE username = 'admin' UNION SELECT * FROM users; -> Prediction: Harmful\n",
            "Query: SELECT * FROM users WHERE username = 'bob' AND '1'='1'; -> Prediction: Harmful\n",
            "\n",
            "Testing Harmless Queries:\n",
            "Query: SELECT * FROM users WHERE username = 'alice' AND password = 'securePass'; -> Prediction: Benign\n",
            "Query: SELECT username, email FROM users WHERE id = 1; -> Prediction: Benign\n",
            "Query: SELECT COUNT(*) FROM users; -> Prediction: Benign\n",
            "Query: SELECT * FROM products WHERE price < 100; -> Prediction: Benign\n",
            "Query: INSERT INTO users (username, password) VALUES ('newUser', 'newPass'); -> Prediction: Benign\n"
          ]
        }
      ]
    },
    {
      "cell_type": "markdown",
      "source": [
        "Adding llms to report harmful behavoirs"
      ],
      "metadata": {
        "id": "A6l9KUvutPiL"
      }
    },
    {
      "cell_type": "code",
      "source": [
        "pip install groq"
      ],
      "metadata": {
        "colab": {
          "base_uri": "https://localhost:8080/"
        },
        "id": "Oxjs-CI1tY1o",
        "outputId": "5bfc27ff-7a97-4be7-f7cd-2463f8bca6b1"
      },
      "execution_count": 11,
      "outputs": [
        {
          "output_type": "stream",
          "name": "stdout",
          "text": [
            "Collecting groq\n",
            "  Downloading groq-0.11.0-py3-none-any.whl.metadata (13 kB)\n",
            "Requirement already satisfied: anyio<5,>=3.5.0 in /usr/local/lib/python3.10/dist-packages (from groq) (3.7.1)\n",
            "Requirement already satisfied: distro<2,>=1.7.0 in /usr/lib/python3/dist-packages (from groq) (1.7.0)\n",
            "Collecting httpx<1,>=0.23.0 (from groq)\n",
            "  Downloading httpx-0.27.2-py3-none-any.whl.metadata (7.1 kB)\n",
            "Requirement already satisfied: pydantic<3,>=1.9.0 in /usr/local/lib/python3.10/dist-packages (from groq) (2.9.2)\n",
            "Requirement already satisfied: sniffio in /usr/local/lib/python3.10/dist-packages (from groq) (1.3.1)\n",
            "Requirement already satisfied: typing-extensions<5,>=4.7 in /usr/local/lib/python3.10/dist-packages (from groq) (4.12.2)\n",
            "Requirement already satisfied: idna>=2.8 in /usr/local/lib/python3.10/dist-packages (from anyio<5,>=3.5.0->groq) (3.10)\n",
            "Requirement already satisfied: exceptiongroup in /usr/local/lib/python3.10/dist-packages (from anyio<5,>=3.5.0->groq) (1.2.2)\n",
            "Requirement already satisfied: certifi in /usr/local/lib/python3.10/dist-packages (from httpx<1,>=0.23.0->groq) (2024.8.30)\n",
            "Collecting httpcore==1.* (from httpx<1,>=0.23.0->groq)\n",
            "  Downloading httpcore-1.0.6-py3-none-any.whl.metadata (21 kB)\n",
            "Collecting h11<0.15,>=0.13 (from httpcore==1.*->httpx<1,>=0.23.0->groq)\n",
            "  Downloading h11-0.14.0-py3-none-any.whl.metadata (8.2 kB)\n",
            "Requirement already satisfied: annotated-types>=0.6.0 in /usr/local/lib/python3.10/dist-packages (from pydantic<3,>=1.9.0->groq) (0.7.0)\n",
            "Requirement already satisfied: pydantic-core==2.23.4 in /usr/local/lib/python3.10/dist-packages (from pydantic<3,>=1.9.0->groq) (2.23.4)\n",
            "Downloading groq-0.11.0-py3-none-any.whl (106 kB)\n",
            "\u001b[2K   \u001b[90m━━━━━━━━━━━━━━━━━━━━━━━━━━━━━━━━━━━━━━━━\u001b[0m \u001b[32m106.5/106.5 kB\u001b[0m \u001b[31m3.3 MB/s\u001b[0m eta \u001b[36m0:00:00\u001b[0m\n",
            "\u001b[?25hDownloading httpx-0.27.2-py3-none-any.whl (76 kB)\n",
            "\u001b[2K   \u001b[90m━━━━━━━━━━━━━━━━━━━━━━━━━━━━━━━━━━━━━━━━\u001b[0m \u001b[32m76.4/76.4 kB\u001b[0m \u001b[31m7.2 MB/s\u001b[0m eta \u001b[36m0:00:00\u001b[0m\n",
            "\u001b[?25hDownloading httpcore-1.0.6-py3-none-any.whl (78 kB)\n",
            "\u001b[2K   \u001b[90m━━━━━━━━━━━━━━━━━━━━━━━━━━━━━━━━━━━━━━━━\u001b[0m \u001b[32m78.0/78.0 kB\u001b[0m \u001b[31m7.5 MB/s\u001b[0m eta \u001b[36m0:00:00\u001b[0m\n",
            "\u001b[?25hDownloading h11-0.14.0-py3-none-any.whl (58 kB)\n",
            "\u001b[2K   \u001b[90m━━━━━━━━━━━━━━━━━━━━━━━━━━━━━━━━━━━━━━━━\u001b[0m \u001b[32m58.3/58.3 kB\u001b[0m \u001b[31m5.3 MB/s\u001b[0m eta \u001b[36m0:00:00\u001b[0m\n",
            "\u001b[?25hInstalling collected packages: h11, httpcore, httpx, groq\n",
            "Successfully installed groq-0.11.0 h11-0.14.0 httpcore-1.0.6 httpx-0.27.2\n"
          ]
        }
      ]
    },
    {
      "cell_type": "code",
      "source": [
        "from groq import Groq\n",
        "\n",
        "api_key= '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'\n",
        "# Function to send an alert email\n",
        "def send_alert_email(harmful_query):\n",
        "    client = Groq(api_key = api_key)\n",
        "    completion = client.chat.completions.create(\n",
        "        model=\"llama3-8b-8192\",\n",
        "        messages=[\n",
        "            {\n",
        "                \"role\": \"system\",\n",
        "                \"content\": \"This is an LLM for reporting SQL injections to the user from the security team. Create an email for the alert.\"\n",
        "            },\n",
        "            {\n",
        "                \"role\": \"user\",\n",
        "                \"content\": f\"A harmful SQL injection has been detected: {harmful_query}\"\n",
        "            }\n",
        "        ],\n",
        "        temperature=1,\n",
        "        max_tokens=1024,\n",
        "        top_p=1,\n",
        "        stream=True,\n",
        "        stop=None,\n",
        "    )\n",
        "\n",
        "    email_content = \"\"\n",
        "    for chunk in completion:\n",
        "        email_content += chunk.choices[0].delta.content or \"\"\n",
        "\n",
        "    print(\"Sending email alert...\")\n",
        "    print(email_content)\n",
        "\n",
        "# Modify the prediction testing code\n",
        "for query in harmful_queries:\n",
        "    result = predict_injection(query)\n",
        "    print(f\"Query: {query} -> Prediction: {result}\")\n",
        "    if result == \"Harmful\":\n",
        "        send_alert_email(query)\n"
      ],
      "metadata": {
        "colab": {
          "base_uri": "https://localhost:8080/"
        },
        "id": "slzv22OJvfFB",
        "outputId": "8cf120b1-da62-4d97-c320-5317c27f0df2"
      },
      "execution_count": 12,
      "outputs": [
        {
          "output_type": "stream",
          "name": "stdout",
          "text": [
            "Query: SELECT * FROM users WHERE username = 'admin' -- -> Prediction: Harmful\n",
            "Sending email alert...\n",
            "Subject: SQL Injection Alert - User Identification\n",
            "\n",
            "Dear [User],\n",
            "\n",
            "We have detected a potential security vulnerability on our system and wanted to bring it to your attention. A SQL injection attack has been identified, which could potentially compromise the integrity of our database. The malicious SQL query has been detected as:\n",
            "\n",
            "SELECT * FROM users WHERE username = '/admin' --\n",
            "\n",
            "This unauthorized query has been attempting to gain access to our system with a username of 'admin'. We take data security very seriously and want to ensure that our system remains secure.\n",
            "\n",
            "Here is the action plan we suggest:\n",
            "\n",
            "1. We recommend that you do not click on any suspicious links or respond to any unsolicited requests.\n",
            "2. Do not attempt to log in to your account or access any sensitive information until we have further instructions.\n",
            "3. We are working on remediating this issue promptly and will notify you once the vulnerability has been resolved.\n",
            "\n",
            "Please be assured that we are working diligently to resolve this issue and prevent any further potential security breaches. We will update you with more information and instructions as needed.\n",
            "\n",
            "Please let us know if you have any questions or concerns. Your cooperation and understanding are greatly appreciated.\n",
            "\n",
            "Best regards,\n",
            "[Your Name]\n",
            "[Your Title]\n",
            "[Your Organization]\n",
            "[Contact Information]\n",
            "Query: SELECT * FROM users WHERE username = 'user' OR '1'='1'; -> Prediction: Harmful\n",
            "Sending email alert...\n",
            "Subject: Security Alert: SQL Injection Detected\n",
            "\n",
            "Dear [User's Name],\n",
            "\n",
            "This is a notification from the Security Team regarding a potential security issue on our system. Our monitoring tools have detected a harmful SQL injection attempt on our database.\n",
            "\n",
            "The specific attack was detected on [insert timestamp] and involved a malicious SQL query aimed at compromising sensitive user data. The query in question is:\n",
            "\n",
            "SELECT * FROM users WHERE username = 'user' OR '1'='1';\n",
            "\n",
            "While the query does not compromise sensitive user data directly, it is an indication of a sophisticated attack aimed at exploiting vulnerabilities in our system. We take this issue seriously and are taking immediate action to address it.\n",
            "\n",
            "As a precautionary measure, we recommend that you:\n",
            "\n",
            "1. Change your password immediately to ensure any potential session hijackings are prevented.\n",
            "2. Enable two-factor authentication (2FA) for your account, which adds an extra layer of security.\n",
            "3. Monitor your account activity closely for any suspicious activities.\n",
            "\n",
            "Our team is actively investigating this incident and is working to:\n",
            "\n",
            "1. Review and update our security measures to prevent such attacks.\n",
            "2. Identify potential vulnerabilities and patch them.\n",
            "3. Conduct additional security scans to ensure the integrity of our systems.\n",
            "\n",
            "If you have any questions or concerns regarding this issue, please do not hesitate to reach out to the Security Team. We appreciate your cooperation and prompt action in this matter.\n",
            "\n",
            "Best regards,\n",
            "\n",
            "[Your Name]\n",
            "Security Team\n",
            "Query: SELECT * FROM users WHERE username = 'guest' AND password = '' OR '1'='1'; -> Prediction: Harmful\n",
            "Sending email alert...\n",
            "Subject: SQL Injection Alert: Potential Security Breach Detected\n",
            "\n",
            "Dear [Username],\n",
            "\n",
            "The security team has detected a potential security breach on our system. A harmful SQL injection has been detected in one of our database queries, and we are taking immediate action to investigate and mitigate the threat.\n",
            "\n",
            "The affected query is:\n",
            "\n",
            "SELECT * FROM users WHERE username = 'guest' AND password = '' OR '1'='1';\n",
            "\n",
            "This query appears to be attempting to bypass authentication and gain unauthorized access to user data. We have taken the following steps to respond to this incident:\n",
            "\n",
            "1. Immediately blocked access to the affected database query.\n",
            "2. Conducted a thorough investigation to determine the scope and impact of the vulnerability.\n",
            "3. Identified and patched the underlying vulnerability.\n",
            "\n",
            "We are taking this incident very seriously and would like to assure you that we are doing everything in our power to ensure the security and integrity of our systems. We will continue to monitor the situation closely and take any necessary steps to prevent similar incidents in the future.\n",
            "\n",
            "We recommend that you:\n",
            "\n",
            "1. Change your password immediately and use a unique and complex password.\n",
            "2. Enable two-factor authentication (2FA) to add an extra layer of security.\n",
            "3. Be cautious when entering sensitive information online, and watch for any suspicious activity.\n",
            "\n",
            "If you have any questions or concerns, please do not hesitate to reach out to our security team. We are committed to keeping our users safe and will do everything necessary to prevent future incidents.\n",
            "\n",
            "Thank you for your prompt attention to this matter.\n",
            "\n",
            "Best regards,\n",
            "\n",
            "The Security Team\n",
            "Query: SELECT * FROM users WHERE username = 'admin' UNION SELECT * FROM users; -> Prediction: Harmful\n",
            "Sending email alert...\n",
            "Subject: SQL Injection Alert: Potential Security Vulnerability Detected\n",
            "\n",
            "Dear [User's Name],\n",
            "\n",
            "This email is to inform you that our security team has detected a potential SQL injection attempt on [System/Database Name]. The malicious activity was identified as:\n",
            "\n",
            "`SELECT * FROM users WHERE username = 'admin' UNION SELECT * FROM users;`\n",
            "\n",
            "This injection attempt could potentially allow unauthorized access to sensitive information and disrupt the normal functioning of our system. Our team has taken immediate action to prevent further exploitation and is working to fully remediate the issue.\n",
            "\n",
            "We take the security and integrity of our systems very seriously, and we want to assure you that we are doing everything possible to prevent and mitigate such threats.\n",
            "\n",
            "In the meantime, please be aware that the following measures have been taken:\n",
            "\n",
            "1. The affected system has been taken offline for further investigation and repair.\n",
            "2. A thorough review of our application's code and configuration is underway to identify and patch any potential vulnerabilities.\n",
            "3. Additional security measures are being implemented to prevent similar incidents in the future.\n",
            "\n",
            "Please note that there is no evidence to suggest that any sensitive information has been compromised. However, we encourage you to take extra precautions when accessing your account and to monitor your account activity closely.\n",
            "\n",
            "If you have any questions or concerns, please do not hesitate to reach out to our security team. We are committed to keeping you informed and protecting your data.\n",
            "\n",
            "Thank you for your cooperation and understanding.\n",
            "\n",
            "Best regards,\n",
            "[Your Name]\n",
            "Security Team\n",
            "Query: SELECT * FROM users WHERE username = 'bob' AND '1'='1'; -> Prediction: Harmful\n",
            "Sending email alert...\n",
            "Subject: Urgent: Potential SQL Injection Detected in Production Database\n",
            "\n",
            "Dear [User],\n",
            "\n",
            "This email is to inform you of a critical security incident involving a potential SQL injection (SQLi) attack on our production database. Our security team detected the following suspicious SQL query:\n",
            "\n",
            "`SELECT * FROM users WHERE username = 'bob' AND '1'='1';`\n",
            "\n",
            "This query appears to be an attempt to inject malicious SQL code into our database, potentially compromising the security and integrity of our system.\n",
            "\n",
            "We take these incidents extremely seriously and have taken immediate action to:\n",
            "\n",
            "1. Temporarily restrict access to the affected database.\n",
            "2. Activate additional security measures to prevent further unauthorized access.\n",
            "3. Initiate a thorough investigation to identify the source and scope of the attack.\n",
            "\n",
            "In the meantime, we recommend that all users avoid accessing the affected database and services until further notice.\n",
            "\n",
            "To ensure the security of our systems, we will be conducting a series of security audits and vulnerability assessments to identify and remediate any potential weaknesses.\n",
            "\n",
            "In the interim, please refrain from:\n",
            "\n",
            "* Accessing the affected database or services.\n",
            "* Performing any database queries or updates.\n",
            "* Sharing sensitive information or credentials.\n",
            "\n",
            "We will provide regular updates on the status of the investigation and any necessary actions to ensure the security of our systems.\n",
            "\n",
            "If you have any questions or concerns, please do not hesitate to contact our security team at [security@company.com](mailto:security@company.com).\n",
            "\n",
            "Thank you for your understanding and cooperation.\n",
            "\n",
            "Best regards,\n",
            "\n",
            "[Your Name]\n",
            "[Company Name]\n",
            "Security Team\n"
          ]
        }
      ]
    },
    {
      "cell_type": "code",
      "source": [
        "import smtplib\n",
        "from email.mime.text import MIMEText\n",
        "from email.mime.multipart import MIMEMultipart\n",
        "\n",
        "def send_alert_email(harmful_query):\n",
        "    sender_email = \"sepokonayuma@gmail.com\"  # Your Gmail address\n",
        "    receiver_email = \"plastalbotbuilders@gmail.com\"  # Recipient's email address\n",
        "    password = \"ahjzhgazffxaxhyg\"  # Your Gmail password or App Password\n",
        "\n",
        "    # Create the email content\n",
        "    subject = \"SQL Injection Alert\"\n",
        "    body = f\"\"\"\n",
        "    Dear Sir/Madam,\n",
        "\n",
        "    A harmful SQL injection has been detected:\n",
        "\n",
        "    Query: {harmful_query}\n",
        "\n",
        "    Please take necessary action.\n",
        "\n",
        "    Best regards,\n",
        "    Your Security System\n",
        "    \"\"\"\n",
        "\n",
        "    # Set up the email\n",
        "    msg = MIMEMultipart()\n",
        "    msg['From'] = sender_email\n",
        "    msg['To'] = receiver_email\n",
        "    msg['Subject'] = subject\n",
        "    msg.attach(MIMEText(body, 'plain'))\n",
        "\n",
        "    try:\n",
        "        # Send the email\n",
        "        with smtplib.SMTP('smtp.gmail.com', 587) as server:\n",
        "            server.starttls()  # Upgrade the connection to secure\n",
        "            server.login(sender_email, password)  # Log in to your Gmail account\n",
        "            server.send_message(msg)  # Send the email\n",
        "        print(\"Email alert sent successfully.\")\n",
        "    except Exception as e:\n",
        "        print(f\"Error sending email: {e}\")\n"
      ],
      "metadata": {
        "id": "VCWWC_C6wJ7U"
      },
      "execution_count": 13,
      "outputs": []
    },
    {
      "cell_type": "code",
      "source": [
        "# Function to predict injection type\n",
        "def predict_injection(query):\n",
        "    query_vector = vectorizer.transform([query])\n",
        "    prediction = model.predict(query_vector)\n",
        "    return \"Harmful\" if prediction[0] == 1 else \"Benign\""
      ],
      "metadata": {
        "id": "Wh72o8gh6u9K"
      },
      "execution_count": 14,
      "outputs": []
    },
    {
      "cell_type": "code",
      "source": [
        "# Define harmful queries\n",
        "harmful_queries = [\n",
        "    \"SELECT * FROM users WHERE username = 'admin' --\",\n",
        "    \"SELECT * FROM users WHERE username = 'user' OR '1'='1';\",\n",
        "    \"SELECT * FROM users WHERE username = 'guest' AND password = '' OR '1'='1';\",\n",
        "    \"SELECT * FROM users WHERE username = 'admin' UNION SELECT * FROM users;\",\n",
        "    \"SELECT * FROM users WHERE username = 'bob' AND '1'='1';\"\n",
        "]\n",
        "\n",
        "# Test the model with harmful queries\n",
        "for query in harmful_queries:\n",
        "    result = predict_injection(query)\n",
        "    print(f\"Query: {query} -> Prediction: {result}\")\n",
        "    if result == \"Harmful\":\n",
        "        send_alert_email(query)"
      ],
      "metadata": {
        "colab": {
          "base_uri": "https://localhost:8080/"
        },
        "id": "nVQgEexH4IOF",
        "outputId": "abbef9fa-0354-449c-e0c2-97a9fa340576"
      },
      "execution_count": 15,
      "outputs": [
        {
          "output_type": "stream",
          "name": "stdout",
          "text": [
            "Query: SELECT * FROM users WHERE username = 'admin' -- -> Prediction: Harmful\n",
            "Email alert sent successfully.\n",
            "Query: SELECT * FROM users WHERE username = 'user' OR '1'='1'; -> Prediction: Harmful\n",
            "Email alert sent successfully.\n",
            "Query: SELECT * FROM users WHERE username = 'guest' AND password = '' OR '1'='1'; -> Prediction: Harmful\n",
            "Email alert sent successfully.\n",
            "Query: SELECT * FROM users WHERE username = 'admin' UNION SELECT * FROM users; -> Prediction: Harmful\n",
            "Email alert sent successfully.\n",
            "Query: SELECT * FROM users WHERE username = 'bob' AND '1'='1'; -> Prediction: Harmful\n",
            "Email alert sent successfully.\n"
          ]
        }
      ]
    },
    {
      "cell_type": "code",
      "source": [
        "import smtplib\n",
        "from email.mime.text import MIMEText\n",
        "from email.mime.multipart import MIMEMultipart\n",
        "import pandas as pd\n",
        "from sklearn.model_selection import train_test_split\n",
        "from sklearn.linear_model import LogisticRegression\n",
        "from sklearn.metrics import classification_report, confusion_matrix, accuracy_score\n",
        "from sklearn.feature_extraction.text import TfidfVectorizer\n",
        "\n",
        "# Step 1: Load the dataset\n",
        "try:\n",
        "    df = pd.read_csv('sql_queries_dataset.csv')\n",
        "    print(\"Dataset loaded successfully.\")\n",
        "except FileNotFoundError:\n",
        "    print(\"Error: Dataset not found. Please ensure the dataset is in the correct path.\")\n",
        "    raise\n",
        "\n",
        "# Step 2: Feature extraction using TF-IDF\n",
        "vectorizer = TfidfVectorizer()\n",
        "X = vectorizer.fit_transform(df['query'])\n",
        "y = df['label']\n",
        "print(\"TF-IDF feature extraction completed.\")\n",
        "\n",
        "# Step 3: Split the dataset into training and testing sets\n",
        "X_train, X_test, y_train, y_test = train_test_split(X, y, test_size=0.2, random_state=42)\n",
        "\n",
        "# Step 4: Train the model\n",
        "model = LogisticRegression()\n",
        "model.fit(X_train, y_train)\n",
        "print(\"Model training completed.\")\n",
        "\n",
        "# Step 5: Evaluate the model\n",
        "y_pred = model.predict(X_test)\n",
        "accuracy = accuracy_score(y_test, y_pred)\n",
        "print(f\"Model Accuracy: {accuracy * 100:.2f}%\")\n",
        "print(\"Classification Report:\\n\", classification_report(y_test, y_pred))\n",
        "print(\"Confusion Matrix:\\n\", confusion_matrix(y_test, y_pred))\n",
        "\n",
        "# Function to predict injection type\n",
        "def predict_injection(query):\n",
        "    query_vector = vectorizer.transform([query])\n",
        "    prediction = model.predict(query_vector)\n",
        "    return \"Harmful\" if prediction[0] == 1 else \"Benign\"\n",
        "\n",
        "# Function to send an email alert with enhanced logging and error handling\n",
        "def send_alert_email(harmful_query):\n",
        "    sender_email = \"sepokonayuma@gmail.com\"  # Your Gmail address\n",
        "    receiver_email = \"plastalbotbuilders@gmail.com\"  # Recipient's email address\n",
        "    password = \"ahjzhgazffxaxhyg\"  # Your Gmail password or App Password\n",
        "\n",
        "    # Create the email content with more informative alert\n",
        "    subject = \"🚨 SQL Injection Alert - Harmful Query Detected\"\n",
        "    body = f\"\"\"\n",
        "    Dear Security Team,\n",
        "\n",
        "    An SQL injection attempt has been detected and flagged as harmful by the security system.\n",
        "\n",
        "    ⚠️ Harmful Query: {harmful_query}\n",
        "\n",
        "    Please review the query and take immediate action to prevent any security breaches.\n",
        "\n",
        "    Best regards,\n",
        "    Automated SQL Injection Detection System\n",
        "    \"\"\"\n",
        "\n",
        "    # Set up the email\n",
        "    msg = MIMEMultipart()\n",
        "    msg['From'] = sender_email\n",
        "    msg['To'] = receiver_email\n",
        "    msg['Subject'] = subject\n",
        "    msg.attach(MIMEText(body, 'plain'))\n",
        "\n",
        "    try:\n",
        "        # Send the email\n",
        "        with smtplib.SMTP('smtp.gmail.com', 587) as server:\n",
        "            server.starttls()  # Upgrade the connection to secure\n",
        "            server.login(sender_email, password)  # Log in to your Gmail account\n",
        "            server.send_message(msg)  # Send the email\n",
        "        print(f\"🚀 Alert email sent successfully to {receiver_email}.\")\n",
        "    except Exception as e:\n",
        "        print(f\"❌ Error sending email: {e}\")\n",
        "\n",
        "# Step 6: Define harmful queries (improved with more realistic SQL injections)\n",
        "harmful_queries = [\n",
        "    \"SELECT * FROM users WHERE username = 'admin' --\",\n",
        "    \"SELECT * FROM users WHERE username = 'user' OR '1'='1';\",\n",
        "    \"SELECT * FROM users WHERE username = 'guest' AND password = '' OR '1'='1';\",\n",
        "    \"SELECT * FROM users WHERE username = 'admin' UNION SELECT * FROM users;\",\n",
        "    \"SELECT * FROM users WHERE username = 'bob' AND '1'='1';\",\n",
        "    \"DROP TABLE users; --\",\n",
        "    \"SELECT * FROM users WHERE password = 'abc' AND '1'='1';\",\n",
        "]\n",
        "\n",
        "# Step 7: Test the model with harmful queries and log the results\n",
        "print(\"Starting prediction and alert process for harmful queries...\")\n",
        "\n",
        "for query in harmful_queries:\n",
        "    result = predict_injection(query)\n",
        "    print(f\"Query: {query} -> Prediction: {result}\")\n",
        "    if result == \"Harmful\":\n",
        "        send_alert_email(query)\n",
        "\n",
        "print(\"Prediction and alert process completed.\")\n"
      ],
      "metadata": {
        "colab": {
          "base_uri": "https://localhost:8080/"
        },
        "id": "tZtjCjpZ63gS",
        "outputId": "bf91c699-105e-4392-a78f-2c69fadf421f"
      },
      "execution_count": 16,
      "outputs": [
        {
          "output_type": "stream",
          "name": "stdout",
          "text": [
            "Dataset loaded successfully.\n",
            "TF-IDF feature extraction completed.\n",
            "Model training completed.\n",
            "Model Accuracy: 100.00%\n",
            "Classification Report:\n",
            "               precision    recall  f1-score   support\n",
            "\n",
            "           0       1.00      1.00      1.00       203\n",
            "           1       1.00      1.00      1.00       197\n",
            "\n",
            "    accuracy                           1.00       400\n",
            "   macro avg       1.00      1.00      1.00       400\n",
            "weighted avg       1.00      1.00      1.00       400\n",
            "\n",
            "Confusion Matrix:\n",
            " [[203   0]\n",
            " [  0 197]]\n",
            "Starting prediction and alert process for harmful queries...\n",
            "Query: SELECT * FROM users WHERE username = 'admin' -- -> Prediction: Harmful\n",
            "🚀 Alert email sent successfully to plastalbotbuilders@gmail.com.\n",
            "Query: SELECT * FROM users WHERE username = 'user' OR '1'='1'; -> Prediction: Harmful\n",
            "🚀 Alert email sent successfully to plastalbotbuilders@gmail.com.\n",
            "Query: SELECT * FROM users WHERE username = 'guest' AND password = '' OR '1'='1'; -> Prediction: Harmful\n",
            "🚀 Alert email sent successfully to plastalbotbuilders@gmail.com.\n",
            "Query: SELECT * FROM users WHERE username = 'admin' UNION SELECT * FROM users; -> Prediction: Harmful\n",
            "🚀 Alert email sent successfully to plastalbotbuilders@gmail.com.\n",
            "Query: SELECT * FROM users WHERE username = 'bob' AND '1'='1'; -> Prediction: Harmful\n",
            "🚀 Alert email sent successfully to plastalbotbuilders@gmail.com.\n",
            "Query: DROP TABLE users; -- -> Prediction: Harmful\n",
            "🚀 Alert email sent successfully to plastalbotbuilders@gmail.com.\n",
            "Query: SELECT * FROM users WHERE password = 'abc' AND '1'='1'; -> Prediction: Harmful\n",
            "🚀 Alert email sent successfully to plastalbotbuilders@gmail.com.\n",
            "Prediction and alert process completed.\n"
          ]
        }
      ]
    },
    {
      "cell_type": "code",
      "source": [
        "! pip install streamlit -q"
      ],
      "metadata": {
        "colab": {
          "base_uri": "https://localhost:8080/"
        },
        "id": "1WfVOp4XDqvG",
        "outputId": "c337b53c-ce4c-4fe5-edd8-01289d06ba4c"
      },
      "execution_count": 17,
      "outputs": [
        {
          "output_type": "stream",
          "name": "stdout",
          "text": [
            "\u001b[2K     \u001b[90m━━━━━━━━━━━━━━━━━━━━━━━━━━━━━━━━━━━━━━━━\u001b[0m \u001b[32m41.9/41.9 kB\u001b[0m \u001b[31m1.7 MB/s\u001b[0m eta \u001b[36m0:00:00\u001b[0m\n",
            "\u001b[2K   \u001b[90m━━━━━━━━━━━━━━━━━━━━━━━━━━━━━━━━━━━━━━━━\u001b[0m \u001b[32m8.7/8.7 MB\u001b[0m \u001b[31m58.3 MB/s\u001b[0m eta \u001b[36m0:00:00\u001b[0m\n",
            "\u001b[2K   \u001b[90m━━━━━━━━━━━━━━━━━━━━━━━━━━━━━━━━━━━━━━━━\u001b[0m \u001b[32m207.3/207.3 kB\u001b[0m \u001b[31m18.0 MB/s\u001b[0m eta \u001b[36m0:00:00\u001b[0m\n",
            "\u001b[2K   \u001b[90m━━━━━━━━━━━━━━━━━━━━━━━━━━━━━━━━━━━━━━━━\u001b[0m \u001b[32m6.9/6.9 MB\u001b[0m \u001b[31m87.6 MB/s\u001b[0m eta \u001b[36m0:00:00\u001b[0m\n",
            "\u001b[2K   \u001b[90m━━━━━━━━━━━━━━━━━━━━━━━━━━━━━━━━━━━━━━━━\u001b[0m \u001b[32m79.3/79.3 kB\u001b[0m \u001b[31m6.8 MB/s\u001b[0m eta \u001b[36m0:00:00\u001b[0m\n",
            "\u001b[2K   \u001b[90m━━━━━━━━━━━━━━━━━━━━━━━━━━━━━━━━━━━━━━━━\u001b[0m \u001b[32m62.7/62.7 kB\u001b[0m \u001b[31m5.5 MB/s\u001b[0m eta \u001b[36m0:00:00\u001b[0m\n",
            "\u001b[?25h"
          ]
        }
      ]
    },
    {
      "cell_type": "code",
      "source": [
        "!wget -q -O - ipv4.icanhazip.com"
      ],
      "metadata": {
        "colab": {
          "base_uri": "https://localhost:8080/"
        },
        "id": "w_nBb4vTD_LQ",
        "outputId": "414c65e5-f827-4b06-cb10-a8531f910fac"
      },
      "execution_count": 18,
      "outputs": [
        {
          "output_type": "stream",
          "name": "stdout",
          "text": [
            "34.106.84.17\n"
          ]
        }
      ]
    },
    {
      "cell_type": "code",
      "source": [
        "%%writefile app.py\n",
        "import streamlit as st\n",
        "import pandas as pd\n",
        "import smtplib\n",
        "import os\n",
        "import logging\n",
        "from email.mime.text import MIMEText\n",
        "from email.mime.multipart import MIMEMultipart\n",
        "from sklearn.model_selection import train_test_split\n",
        "from sklearn.linear_model import LogisticRegression\n",
        "from sklearn.feature_extraction.text import TfidfVectorizer\n",
        "import matplotlib.pyplot as plt\n",
        "\n",
        "# Ensure the log file exists\n",
        "log_file = 'app.log'\n",
        "if not os.path.exists(log_file):\n",
        "    open(log_file, 'w').close()\n",
        "\n",
        "# Configure logging\n",
        "logging.basicConfig(filename=log_file, level=logging.INFO, format='%(asctime)s - %(levelname)s - %(message)s')\n",
        "logger = logging.getLogger()\n",
        "\n",
        "# Step 1: Load the dataset\n",
        "df = pd.read_csv('sql_queries_dataset.csv')\n",
        "\n",
        "# Step 2: Feature extraction using TF-IDF\n",
        "vectorizer = TfidfVectorizer()\n",
        "X = vectorizer.fit_transform(df['query'])\n",
        "y = df['label']\n",
        "\n",
        "# Step 3: Split the dataset into training and testing sets\n",
        "X_train, X_test, y_train, y_test = train_test_split(X, y, test_size=0.2, random_state=42)\n",
        "\n",
        "# Train the model\n",
        "model = LogisticRegression()\n",
        "model.fit(X_train, y_train)\n",
        "\n",
        "# Function to predict injection type\n",
        "def predict_injection(query):\n",
        "    query_vector = vectorizer.transform([query])\n",
        "    prediction = model.predict(query_vector)\n",
        "    return \"Harmful\" if prediction[0] == 1 else \"Benign\"\n",
        "\n",
        "# Function to send an email alert\n",
        "def send_alert_email(harmful_query):\n",
        "    sender_email = \"sepokonayuma@gmail.com\"  # Your Gmail address\n",
        "    receiver_email = \"plastalbotbuilders@gmail.com\"  # Recipient's email address\n",
        "    password = \"your_password_here\"  # Your Gmail password or App Password\n",
        "\n",
        "    # Create the email content\n",
        "    subject = \"SQL Injection Alert\"\n",
        "    body = f\"\"\"\n",
        "    Dear Sir/Madam,\n",
        "\n",
        "    A harmful SQL injection has been detected:\n",
        "\n",
        "    Query: {harmful_query}\n",
        "\n",
        "    Please take necessary action.\n",
        "\n",
        "    Best regards,\n",
        "    Your Security System\n",
        "    \"\"\"\n",
        "\n",
        "    # Set up the email\n",
        "    msg = MIMEMultipart()\n",
        "    msg['From'] = sender_email\n",
        "    msg['To'] = receiver_email\n",
        "    msg['Subject'] = subject\n",
        "    msg.attach(MIMEText(body, 'plain'))\n",
        "\n",
        "    try:\n",
        "        # Send the email\n",
        "        with smtplib.SMTP('smtp.gmail.com', 587) as server:\n",
        "            server.starttls()  # Upgrade the connection to secure\n",
        "            server.login(sender_email, password)  # Log in to your Gmail account\n",
        "            server.send_message(msg)  # Send the email\n",
        "        logger.info(\"Email alert sent successfully.\")\n",
        "    except Exception as e:\n",
        "        logger.error(f\"Error sending email: {e}\")\n",
        "\n",
        "# Streamlit UI with Sidebar\n",
        "st.sidebar.title(\"Navigation\")\n",
        "options = st.sidebar.radio(\"Select an option:\", [\"User Dashboard\", \"Predict SQL Query\", \"Query Patterns Visualization\", \"Logs\"])\n",
        "\n",
        "# Bento Box Design\n",
        "def bento_box(label, description, option_name):\n",
        "    \"\"\"Create a clickable bento box that redirects to another page.\"\"\"\n",
        "    if st.button(label):\n",
        "        st.session_state.page = option_name  # Navigate to the correct page\n",
        "    st.write(f\"**{description}**\")\n",
        "    st.markdown(\"---\")\n",
        "\n",
        "# Dashboard Default Page\n",
        "if 'page' not in st.session_state:\n",
        "    st.session_state.page = 'User Dashboard'\n",
        "\n",
        "if st.session_state.page == \"User Dashboard\":\n",
        "    st.title(\"User Dashboard\")\n",
        "\n",
        "    # Bento Box for Current Status\n",
        "    st.subheader(\"Current Status\")\n",
        "    bento_box(\"View Current Status\", \"View current system activity, including query trends and predictions.\", \"Query Patterns Visualization\")\n",
        "\n",
        "    # Bento Box for SQL Query Prediction\n",
        "    st.subheader(\"SQL Injection Detection\")\n",
        "    bento_box(\"Predict SQL Query\", \"Enter a new SQL query to test for potential injection vulnerabilities.\", \"Predict SQL Query\")\n",
        "\n",
        "    # Bento Box for Logs\n",
        "    st.subheader(\"Log Summary\")\n",
        "    # Display a summary of the logs\n",
        "    with open(log_file, \"r\") as f:\n",
        "        logs = f.readlines()[-5:]  # Show the last 5 log entries\n",
        "    st.text_area(\"Recent Logs\", value=''.join(logs), height=150)\n",
        "\n",
        "    bento_box(\"View Full Logs\", \"Explore system logs for detailed query and prediction history.\", \"Logs\")\n",
        "\n",
        "    # Bento Box for Visualization\n",
        "    st.subheader(\"Query Patterns\")\n",
        "    bento_box(\"View Query Patterns\", \"View a visualization of harmful and benign queries on a Cartesian plane.\", \"Query Patterns Visualization\")\n",
        "\n",
        "    # Navigation Buttons at the bottom\n",
        "    st.markdown(\"---\")\n",
        "    if st.button(\"Go to SQL Injection Prediction\"):\n",
        "        st.session_state.page = \"Predict SQL Query\"\n",
        "    if st.button(\"Go to Query Visualization\"):\n",
        "        st.session_state.page = \"Query Patterns Visualization\"\n",
        "    if st.button(\"View Logs\"):\n",
        "        st.session_state.page = \"Logs\"\n",
        "\n",
        "# Predict SQL Query Page\n",
        "if st.session_state.page == \"Predict SQL Query\":\n",
        "    st.title(\"SQL Injection Detection System\")\n",
        "\n",
        "    # Input for SQL query\n",
        "    sql_query = st.text_input(\"Enter SQL Query:\")\n",
        "\n",
        "    if st.button(\"Predict\"):\n",
        "        if sql_query:\n",
        "            result = predict_injection(sql_query)\n",
        "            st.write(f\"**Prediction:** {result}\")\n",
        "\n",
        "            # Log the query and prediction\n",
        "            logger.info(f\"Query: {sql_query} -> Prediction: {result}\")\n",
        "\n",
        "            # Send email if harmful\n",
        "            if result == \"Harmful\":\n",
        "                send_alert_email(sql_query)\n",
        "                st.warning(\"Alert email sent for harmful query.\")\n",
        "\n",
        "    # Navigation Buttons at the bottom\n",
        "    if st.button(\"Back to Dashboard\"):\n",
        "        st.session_state.page = \"User Dashboard\"\n",
        "    if st.button(\"View Query Patterns\"):\n",
        "        st.session_state.page = \"Query Patterns Visualization\"\n",
        "    if st.button(\"View Logs\"):\n",
        "        st.session_state.page = \"Logs\"\n",
        "\n",
        "# Query Patterns Visualization Page\n",
        "if st.session_state.page == \"Query Patterns Visualization\":\n",
        "    st.subheader(\"Query Patterns Visualization on Cartesian Plane\")\n",
        "\n",
        "    # Prepare data for visualization\n",
        "    df['label'] = df['label'].map({0: 'Benign', 1: 'Harmful'})  # Map labels for visualization\n",
        "\n",
        "    # Create a scatter plot\n",
        "    fig, ax = plt.subplots()\n",
        "\n",
        "    # Scatter plot for harmful queries\n",
        "    harmful_queries = df[df['label'] == 'Harmful']\n",
        "    benign_queries = df[df['label'] == 'Benign']\n",
        "\n",
        "    ax.scatter(harmful_queries.index, [1] * len(harmful_queries), color='red', label='Harmful', alpha=0.6)\n",
        "    ax.scatter(benign_queries.index, [0] * len(benign_queries), color='green', label='Benign', alpha=0.6)\n",
        "\n",
        "    ax.set_yticks([0, 1])\n",
        "    ax.set_yticklabels(['Benign', 'Harmful'])\n",
        "    ax.set_xlabel('Queries')\n",
        "    ax.set_title('Harmful vs Benign Queries on Cartesian Plane')\n",
        "    ax.legend()\n",
        "\n",
        "    st.pyplot(fig)\n",
        "\n",
        "    # Navigation Buttons at the bottom\n",
        "    if st.button(\"Back to Dashboard\"):\n",
        "        st.session_state.page = \"User Dashboard\"\n",
        "    if st.button(\"Go to SQL Injection Prediction\"):\n",
        "        st.session_state.page = \"Predict SQL Query\"\n",
        "    if st.button(\"View Logs\"):\n",
        "        st.session_state.page = \"Logs\"\n",
        "\n",
        "# Logs Page\n",
        "if st.session_state.page == \"Logs\":\n",
        "    st.subheader(\"Logs\")\n",
        "    log_output = st.empty()  # Placeholder for log output\n",
        "\n",
        "    # Function to fetch and display logs\n",
        "    def display_logs():\n",
        "        with open(log_file, \"r\") as f:\n",
        "            log_content = f.read()\n",
        "        log_output.text_area(\"Log Output\", value=log_content, height=300)\n",
        "\n",
        "    # Display logs when requested\n",
        "    if st.button(\"Show Logs\"):\n",
        "        display_logs()\n",
        "\n",
        "    # Navigation Buttons at the bottom\n",
        "    if st.button(\"Back to Dashboard\"):\n",
        "        st.session_state.page = \"User Dashboard\"\n",
        "    if st.button(\"Go to SQL Injection Prediction\"):\n",
        "        st.session_state.page = \"Predict SQL Query\"\n",
        "    if st.button(\"View Query Patterns\"):\n",
        "        st.session_state.page = \"Query Patterns Visualization\"\n"
      ],
      "metadata": {
        "colab": {
          "base_uri": "https://localhost:8080/"
        },
        "id": "22CNU-1AFGNt",
        "outputId": "fadbe835-2a70-418c-fb77-eb5c030c47c0"
      },
      "execution_count": 25,
      "outputs": [
        {
          "output_type": "stream",
          "name": "stdout",
          "text": [
            "Overwriting app.py\n"
          ]
        }
      ]
    },
    {
      "cell_type": "code",
      "source": [
        "!npm install -g npx\n"
      ],
      "metadata": {
        "colab": {
          "base_uri": "https://localhost:8080/"
        },
        "id": "Nan93XkHFikX",
        "outputId": "38b63675-2f7e-49e0-e777-f5293c5f67f6"
      },
      "execution_count": null,
      "outputs": [
        {
          "output_type": "stream",
          "name": "stdout",
          "text": [
            "\u001b[?25l(\u001b[100;90m⠂⠂⠂⠂⠂⠂⠂⠂⠂⠂⠂⠂⠂⠂⠂⠂⠂⠂\u001b[0m) ⠸ reify: \u001b[32;40mtiming\u001b[0m \u001b[35marborist:ctor\u001b[0m Completed in 1ms\u001b[0m\u001b[K\r(\u001b[100;90m⠂⠂⠂⠂⠂⠂⠂⠂⠂⠂⠂⠂⠂⠂⠂⠂⠂⠂\u001b[0m) ⠇ idealTree:lib: \u001b[7msill\u001b[0m \u001b[35midealTree\u001b[0m buildDeps\u001b[0m\u001b[K\r(\u001b[100;90m⠂⠂⠂⠂⠂⠂⠂⠂⠂⠂⠂⠂⠂⠂⠂⠂⠂⠂\u001b[0m) ⠇ idealTree:lib: \u001b[7msill\u001b[0m \u001b[35midealTree\u001b[0m buildDeps\u001b[0m\u001b[K\r(\u001b[107;97m#########\u001b[0m\u001b[100;90m⠂⠂⠂⠂⠂⠂⠂⠂⠂\u001b[0m) ⠴ idealTree: \u001b[32;40mtiming\u001b[0m \u001b[35midealTree\u001b[0m Completed in 160ms\u001b[0m\u001b[K\r\r\u001b[K\u001b[?25h\u001b[37;40mnpm\u001b[0m \u001b[0m\u001b[31;40mERR!\u001b[0m \u001b[0m\u001b[35mcode\u001b[0m EEXIST\n",
            "\u001b[0m\u001b[37;40mnpm\u001b[0m \u001b[0m\u001b[31;40mERR!\u001b[0m \u001b[0m\u001b[35mpath\u001b[0m /tools/node/bin/npx\n",
            "\u001b[0m\u001b[37;40mnpm\u001b[0m \u001b[0m\u001b[31;40mERR!\u001b[0m\u001b[35m\u001b[0m EEXIST: file already exists\n",
            "\u001b[0m\u001b[37;40mnpm\u001b[0m \u001b[0m\u001b[31;40mERR!\u001b[0m\u001b[35m\u001b[0m File exists: /tools/node/bin/npx\n",
            "\u001b[0m\u001b[37;40mnpm\u001b[0m \u001b[0m\u001b[31;40mERR!\u001b[0m\u001b[35m\u001b[0m Remove the existing file and try again, or run npm\n",
            "\u001b[0m\u001b[37;40mnpm\u001b[0m \u001b[0m\u001b[31;40mERR!\u001b[0m\u001b[35m\u001b[0m with --force to overwrite files recklessly.\n",
            "\u001b[0m\n",
            "\u001b[37;40mnpm\u001b[0m \u001b[0m\u001b[31;40mERR!\u001b[0m\u001b[35m\u001b[0m A complete log of this run can be found in:\n",
            "\u001b[0m\u001b[37;40mnpm\u001b[0m \u001b[0m\u001b[31;40mERR!\u001b[0m\u001b[35m\u001b[0m     /root/.npm/_logs/2024-10-05T09_50_23_598Z-debug-0.log\n",
            "\u001b[0m"
          ]
        }
      ]
    },
    {
      "cell_type": "code",
      "source": [
        "!streamlit run app.py & npx localtunnel --port 8501"
      ],
      "metadata": {
        "colab": {
          "base_uri": "https://localhost:8080/"
        },
        "id": "NW1Dol9kFsDQ",
        "outputId": "ddcd585a-6a37-4cd8-97b4-941c888d83cd"
      },
      "execution_count": 26,
      "outputs": [
        {
          "output_type": "stream",
          "name": "stdout",
          "text": [
            "\n",
            "Collecting usage statistics. To deactivate, set browser.gatherUsageStats to false.\n",
            "\u001b[0m\n",
            "\u001b[0m\n",
            "\u001b[34m\u001b[1m  You can now view your Streamlit app in your browser.\u001b[0m\n",
            "\u001b[0m\n",
            "\u001b[34m  Local URL: \u001b[0m\u001b[1mhttp://localhost:8501\u001b[0m\n",
            "\u001b[34m  Network URL: \u001b[0m\u001b[1mhttp://172.28.0.12:8501\u001b[0m\n",
            "\u001b[34m  External URL: \u001b[0m\u001b[1mhttp://34.106.84.17:8501\u001b[0m\n",
            "\u001b[0m\n",
            "your url is: https://dirty-points-flow.loca.lt\n",
            "2024-10-07 07:36:42.221 Uncaught app exception\n",
            "Traceback (most recent call last):\n",
            "  File \"/usr/local/lib/python3.10/dist-packages/streamlit/runtime/scriptrunner/exec_code.py\", line 88, in exec_func_with_error_handling\n",
            "    result = func()\n",
            "  File \"/usr/local/lib/python3.10/dist-packages/streamlit/runtime/scriptrunner/script_runner.py\", line 579, in code_to_exec\n",
            "    exec(code, module.__dict__)\n",
            "  File \"/content/app.py\", line 186, in <module>\n",
            "    if st.button(\"Go to SQL Injection Prediction\"):\n",
            "  File \"/usr/local/lib/python3.10/dist-packages/streamlit/runtime/metrics_util.py\", line 410, in wrapped_func\n",
            "    result = non_optional_func(*args, **kwargs)\n",
            "  File \"/usr/local/lib/python3.10/dist-packages/streamlit/elements/widgets/button.py\", line 222, in button\n",
            "    return self.dg._button(\n",
            "  File \"/usr/local/lib/python3.10/dist-packages/streamlit/elements/widgets/button.py\", line 872, in _button\n",
            "    element_id = compute_and_register_element_id(\n",
            "  File \"/usr/local/lib/python3.10/dist-packages/streamlit/elements/lib/utils.py\", line 226, in compute_and_register_element_id\n",
            "    _register_element_id(ctx, element_type, element_id)\n",
            "  File \"/usr/local/lib/python3.10/dist-packages/streamlit/elements/lib/utils.py\", line 132, in _register_element_id\n",
            "    raise StreamlitDuplicateElementId(element_type)\n",
            "streamlit.errors.StreamlitDuplicateElementId: There are multiple `button` elements with the same auto-generated ID. When this element is created, it is assigned an internal ID based on the element type and provided parameters. Multiple elements with the same type and parameters will cause this error.\n",
            "\n",
            "To fix this error, please pass a unique `key` argument to the `button` element.\n",
            "2024-10-07 07:37:12.742 Uncaught app exception\n",
            "Traceback (most recent call last):\n",
            "  File \"/usr/local/lib/python3.10/dist-packages/streamlit/runtime/scriptrunner/exec_code.py\", line 88, in exec_func_with_error_handling\n",
            "    result = func()\n",
            "  File \"/usr/local/lib/python3.10/dist-packages/streamlit/runtime/scriptrunner/script_runner.py\", line 579, in code_to_exec\n",
            "    exec(code, module.__dict__)\n",
            "  File \"/content/app.py\", line 153, in <module>\n",
            "    if st.button(\"View Query Patterns\"):\n",
            "  File \"/usr/local/lib/python3.10/dist-packages/streamlit/runtime/metrics_util.py\", line 410, in wrapped_func\n",
            "    result = non_optional_func(*args, **kwargs)\n",
            "  File \"/usr/local/lib/python3.10/dist-packages/streamlit/elements/widgets/button.py\", line 222, in button\n",
            "    return self.dg._button(\n",
            "  File \"/usr/local/lib/python3.10/dist-packages/streamlit/elements/widgets/button.py\", line 872, in _button\n",
            "    element_id = compute_and_register_element_id(\n",
            "  File \"/usr/local/lib/python3.10/dist-packages/streamlit/elements/lib/utils.py\", line 226, in compute_and_register_element_id\n",
            "    _register_element_id(ctx, element_type, element_id)\n",
            "  File \"/usr/local/lib/python3.10/dist-packages/streamlit/elements/lib/utils.py\", line 132, in _register_element_id\n",
            "    raise StreamlitDuplicateElementId(element_type)\n",
            "streamlit.errors.StreamlitDuplicateElementId: There are multiple `button` elements with the same auto-generated ID. When this element is created, it is assigned an internal ID based on the element type and provided parameters. Multiple elements with the same type and parameters will cause this error.\n",
            "\n",
            "To fix this error, please pass a unique `key` argument to the `button` element.\n",
            "\u001b[34m  Stopping...\u001b[0m\n",
            "^C\n"
          ]
        }
      ]
    },
    {
      "cell_type": "code",
      "source": [
        "!pip install flask-ngrok\n",
        "!ngrok authtoken '2n11GDYgmPJnIEjGM05p2sbN796_ADxyzVWPVoBr2L1y6Mtz'"
      ],
      "metadata": {
        "colab": {
          "base_uri": "https://localhost:8080/"
        },
        "id": "R66aNyx4UEwC",
        "outputId": "3edc90da-f03d-45ad-ad52-82f81dee5db8"
      },
      "execution_count": null,
      "outputs": [
        {
          "output_type": "stream",
          "name": "stdout",
          "text": [
            "Requirement already satisfied: flask-ngrok in /usr/local/lib/python3.10/dist-packages (0.0.25)\n",
            "Requirement already satisfied: Flask>=0.8 in /usr/local/lib/python3.10/dist-packages (from flask-ngrok) (2.2.5)\n",
            "Requirement already satisfied: requests in /usr/local/lib/python3.10/dist-packages (from flask-ngrok) (2.32.3)\n",
            "Requirement already satisfied: Werkzeug>=2.2.2 in /usr/local/lib/python3.10/dist-packages (from Flask>=0.8->flask-ngrok) (3.0.4)\n",
            "Requirement already satisfied: Jinja2>=3.0 in /usr/local/lib/python3.10/dist-packages (from Flask>=0.8->flask-ngrok) (3.1.4)\n",
            "Requirement already satisfied: itsdangerous>=2.0 in /usr/local/lib/python3.10/dist-packages (from Flask>=0.8->flask-ngrok) (2.2.0)\n",
            "Requirement already satisfied: click>=8.0 in /usr/local/lib/python3.10/dist-packages (from Flask>=0.8->flask-ngrok) (8.1.7)\n",
            "Requirement already satisfied: charset-normalizer<4,>=2 in /usr/local/lib/python3.10/dist-packages (from requests->flask-ngrok) (3.3.2)\n",
            "Requirement already satisfied: idna<4,>=2.5 in /usr/local/lib/python3.10/dist-packages (from requests->flask-ngrok) (3.10)\n",
            "Requirement already satisfied: urllib3<3,>=1.21.1 in /usr/local/lib/python3.10/dist-packages (from requests->flask-ngrok) (2.2.3)\n",
            "Requirement already satisfied: certifi>=2017.4.17 in /usr/local/lib/python3.10/dist-packages (from requests->flask-ngrok) (2024.8.30)\n",
            "Requirement already satisfied: MarkupSafe>=2.0 in /usr/local/lib/python3.10/dist-packages (from Jinja2>=3.0->Flask>=0.8->flask-ngrok) (2.1.5)\n",
            "/bin/bash: line 1: ngrok: command not found\n"
          ]
        }
      ]
    },
    {
      "cell_type": "code",
      "source": [
        "!pip install flask pyngrok\n"
      ],
      "metadata": {
        "colab": {
          "base_uri": "https://localhost:8080/"
        },
        "id": "ej3kAy-nVFyg",
        "outputId": "840b8abc-06c0-4d5f-ca8f-fcdb3e965038"
      },
      "execution_count": 27,
      "outputs": [
        {
          "output_type": "stream",
          "name": "stdout",
          "text": [
            "Requirement already satisfied: flask in /usr/local/lib/python3.10/dist-packages (2.2.5)\n",
            "Collecting pyngrok\n",
            "  Downloading pyngrok-7.2.0-py3-none-any.whl.metadata (7.4 kB)\n",
            "Requirement already satisfied: Werkzeug>=2.2.2 in /usr/local/lib/python3.10/dist-packages (from flask) (3.0.4)\n",
            "Requirement already satisfied: Jinja2>=3.0 in /usr/local/lib/python3.10/dist-packages (from flask) (3.1.4)\n",
            "Requirement already satisfied: itsdangerous>=2.0 in /usr/local/lib/python3.10/dist-packages (from flask) (2.2.0)\n",
            "Requirement already satisfied: click>=8.0 in /usr/local/lib/python3.10/dist-packages (from flask) (8.1.7)\n",
            "Requirement already satisfied: PyYAML>=5.1 in /usr/local/lib/python3.10/dist-packages (from pyngrok) (6.0.2)\n",
            "Requirement already satisfied: MarkupSafe>=2.0 in /usr/local/lib/python3.10/dist-packages (from Jinja2>=3.0->flask) (2.1.5)\n",
            "Downloading pyngrok-7.2.0-py3-none-any.whl (22 kB)\n",
            "Installing collected packages: pyngrok\n",
            "Successfully installed pyngrok-7.2.0\n"
          ]
        }
      ]
    },
    {
      "cell_type": "code",
      "source": [
        "from flask import Flask, render_template, request, redirect, url_for, flash\n",
        "import pandas as pd\n",
        "import smtplib\n",
        "import os\n",
        "import logging\n",
        "from email.mime.text import MIMEText\n",
        "from email.mime.multipart import MIMEMultipart\n",
        "from sklearn.model_selection import train_test_split\n",
        "from sklearn.linear_model import LogisticRegression\n",
        "from sklearn.feature_extraction.text import TfidfVectorizer\n",
        "import matplotlib.pyplot as plt\n",
        "\n",
        "# Initialize Flask app\n",
        "app = Flask(__name__)\n",
        "app.secret_key = os.urandom(24)\n",
        "\n",
        "# Ensure the log file exists\n",
        "log_file = 'app.log'\n",
        "if not os.path.exists(log_file):\n",
        "    open(log_file, 'w').close()\n",
        "\n",
        "# Configure logging\n",
        "logging.basicConfig(filename=log_file, level=logging.INFO, format='%(asctime)s - %(levelname)s - %(message)s')\n",
        "logger = logging.getLogger()\n",
        "\n",
        "# Step 1: Load the dataset\n",
        "df = pd.read_csv('sql_queries_dataset.csv')\n",
        "\n",
        "# Step 2: Feature extraction using TF-IDF\n",
        "vectorizer = TfidfVectorizer()\n",
        "X = vectorizer.fit_transform(df['query'])\n",
        "y = df['label']\n",
        "\n",
        "# Step 3: Split the dataset into training and testing sets\n",
        "X_train, X_test, y_train, y_test = train_test_split(X, y, test_size=0.2, random_state=42)\n",
        "\n",
        "# Train the model\n",
        "model = LogisticRegression()\n",
        "model.fit(X_train, y_train)\n",
        "\n",
        "# Function to predict injection type\n",
        "def predict_injection(query):\n",
        "    query_vector = vectorizer.transform([query])\n",
        "    prediction = model.predict(query_vector)\n",
        "    return \"Harmful\" if prediction[0] == 1 else \"Benign\"\n",
        "\n",
        "# Function to send an email alert\n",
        "def send_alert_email(harmful_query):\n",
        "    sender_email = \"sepokonayuma@gmail.com\"  # Your Gmail address\n",
        "    receiver_email = \"plastalbotbuilders@gmail.com\"  # Recipient's email address\n",
        "    password = \"zatkvybrqqjmauow\"  # Your Gmail password or App Password\n",
        "\n",
        "    # Create the email content\n",
        "    subject = \"SQL Injection Alert\"\n",
        "    body = f\"\"\"\n",
        "    Dear Sir/Madam,\n",
        "\n",
        "    A harmful SQL injection has been detected:\n",
        "\n",
        "    Query: {harmful_query}\n",
        "\n",
        "    Please take necessary action.\n",
        "\n",
        "    Best regards,\n",
        "    Your Security System\n",
        "    \"\"\"\n",
        "\n",
        "    # Set up the email\n",
        "    msg = MIMEMultipart()\n",
        "    msg['From'] = sender_email\n",
        "    msg['To'] = receiver_email\n",
        "    msg['Subject'] = subject\n",
        "    msg.attach(MIMEText(body, 'plain'))\n",
        "\n",
        "    try:\n",
        "        # Send the email\n",
        "        with smtplib.SMTP('smtp.gmail.com', 587) as server:\n",
        "            server.starttls()  # Upgrade the connection to secure\n",
        "            server.login(sender_email, password)  # Log in to your Gmail account\n",
        "            server.send_message(msg)  # Send the email\n",
        "        logger.info(\"Email alert sent successfully.\")\n",
        "    except Exception as e:\n",
        "        logger.error(f\"Error sending email: {e}\")\n",
        "\n",
        "# Flask routes\n",
        "\n",
        "# Route for the homepage\n",
        "@app.route('/')\n",
        "def home():\n",
        "    return render_template('index.html')\n",
        "\n",
        "# Route for SQL query prediction\n",
        "@app.route('/predict', methods=['GET', 'POST'])\n",
        "def predict():\n",
        "    if request.method == 'POST':\n",
        "        sql_query = request.form['query']\n",
        "        if sql_query:\n",
        "            result = predict_injection(sql_query)\n",
        "\n",
        "            # Log the query and prediction\n",
        "            logger.info(f\"Query: {sql_query} -> Prediction: {result}\")\n",
        "\n",
        "            # Send email if harmful\n",
        "            if result == \"Harmful\":\n",
        "                send_alert_email(sql_query)\n",
        "                flash(\"Alert email sent for harmful query.\", \"warning\")\n",
        "\n",
        "            return render_template('predict.html', result=result)\n",
        "\n",
        "    return render_template('predict.html')\n",
        "\n",
        "# Route for query patterns visualization\n",
        "@app.route('/visualize')\n",
        "def visualize():\n",
        "    df['label'] = df['label'].map({0: 'Benign', 1: 'Harmful'})  # Map labels for visualization\n",
        "\n",
        "    # Create a scatter plot\n",
        "    fig, ax = plt.subplots()\n",
        "    harmful_queries = df[df['label'] == 'Harmful']\n",
        "    benign_queries = df[df['label'] == 'Benign']\n",
        "\n",
        "    ax.scatter(harmful_queries.index, [1] * len(harmful_queries), color='red', label='Harmful', alpha=0.6)\n",
        "    ax.scatter(benign_queries.index, [0] * len(benign_queries), color='green', label='Benign', alpha=0.6)\n",
        "\n",
        "    ax.set_yticks([0, 1])\n",
        "    ax.set_yticklabels(['Benign', 'Harmful'])\n",
        "    ax.set_xlabel('Queries')\n",
        "    ax.set_title('Harmful vs Benign Queries on Cartesian Plane')\n",
        "    ax.legend()\n",
        "\n",
        "    # Save the plot as an image and display it\n",
        "    img_path = \"static/visualization.png\"\n",
        "    plt.savefig(img_path)\n",
        "    return render_template('visualize.html', img_path=img_path)\n",
        "\n",
        "# Route for viewing logs\n",
        "@app.route('/logs')\n",
        "def logs():\n",
        "    with open(log_file, \"r\") as f:\n",
        "        log_content = f.readlines()[-20:]  # Display the last 20 logs\n",
        "    return render_template('logs.html', logs=log_content)\n",
        "\n",
        "# Run Flask app\n",
        "if __name__ == '__main__':\n",
        "    app.run(host='0.0.0.0', port=5000, debug=True)\n"
      ],
      "metadata": {
        "colab": {
          "base_uri": "https://localhost:8080/"
        },
        "id": "vLi_q2zs7Pe9",
        "outputId": "0fc307ad-5909-4c7f-8135-837166a44dda"
      },
      "execution_count": 33,
      "outputs": [
        {
          "output_type": "stream",
          "name": "stdout",
          "text": [
            " * Serving Flask app '__main__'\n",
            " * Debug mode: on\n"
          ]
        },
        {
          "output_type": "stream",
          "name": "stderr",
          "text": [
            "INFO:werkzeug:\u001b[31m\u001b[1mWARNING: This is a development server. Do not use it in a production deployment. Use a production WSGI server instead.\u001b[0m\n",
            " * Running on http://127.0.0.1:5000\n",
            "INFO:werkzeug:\u001b[33mPress CTRL+C to quit\u001b[0m\n",
            "INFO:werkzeug: * Restarting with watchdog (inotify)\n"
          ]
        }
      ]
    },
    {
      "cell_type": "code",
      "source": [
        "import os\n",
        "secret_key = os.urandom(24)\n",
        "print(secret_key)\n"
      ],
      "metadata": {
        "colab": {
          "base_uri": "https://localhost:8080/"
        },
        "id": "CVqg3S4J95xu",
        "outputId": "9cb1ac24-c940-4ab2-e0c0-2ad68cdf6a46"
      },
      "execution_count": 32,
      "outputs": [
        {
          "output_type": "stream",
          "name": "stdout",
          "text": [
            "b'\\xe7\\xaa\\xe9qy\\x90ze\\xfe\\x8ev\\xe7\\xcaT\\xe8;\\xab\\x00\\x96\\xfc\\xae\\xcdp\\xbc'\n"
          ]
        }
      ]
    },
    {
      "cell_type": "code",
      "source": [
        "from pyngrok import ngrok\n",
        "\n",
        "# Terminate any existing tunnels (if any)\n",
        "ngrok.kill()\n",
        "\n",
        "# Set your authtoken (replace with your actual token)\n",
        "ngrok.set_auth_token(\"2n11GDYgmPJnIEjGM05p2sbN796_ADxyzVWPVoBr2L1y6Mtz\")\n",
        "\n",
        "# Expose the Flask app on the internet\n",
        "public_url = ngrok.connect(5000)\n",
        "print(\"Your Flask app is running here:\", public_url)\n",
        "\n",
        "# Start the Flask app\n",
        "app.run(port=5000)"
      ],
      "metadata": {
        "colab": {
          "base_uri": "https://localhost:8080/"
        },
        "id": "o8Xdwbxw7iJm",
        "outputId": "8afe2943-a2c9-440b-dedf-64e26929f92f"
      },
      "execution_count": null,
      "outputs": [
        {
          "output_type": "stream",
          "name": "stdout",
          "text": [
            "Your Flask app is running here: NgrokTunnel: \"https://5f25-34-106-84-17.ngrok-free.app\" -> \"http://localhost:5000\"\n",
            " * Serving Flask app '__main__'\n",
            " * Debug mode: on\n"
          ]
        },
        {
          "output_type": "stream",
          "name": "stderr",
          "text": [
            "INFO:werkzeug:\u001b[31m\u001b[1mWARNING: This is a development server. Do not use it in a production deployment. Use a production WSGI server instead.\u001b[0m\n",
            " * Running on http://127.0.0.1:5000\n",
            "INFO:werkzeug:\u001b[33mPress CTRL+C to quit\u001b[0m\n",
            "INFO:werkzeug: * Restarting with watchdog (inotify)\n"
          ]
        }
      ]
    },
    {
      "cell_type": "code",
      "source": [
        "!pip install flask-ngrok\n",
        "from flask_ngrok import run_with_ngrok\n"
      ],
      "metadata": {
        "colab": {
          "base_uri": "https://localhost:8080/"
        },
        "id": "ob-hg8yyAmHs",
        "outputId": "5655b990-d0e1-444b-ec98-2d406a95e764"
      },
      "execution_count": 38,
      "outputs": [
        {
          "output_type": "stream",
          "name": "stdout",
          "text": [
            "Collecting flask-ngrok\n",
            "  Downloading flask_ngrok-0.0.25-py3-none-any.whl.metadata (1.8 kB)\n",
            "Requirement already satisfied: Flask>=0.8 in /usr/local/lib/python3.10/dist-packages (from flask-ngrok) (2.2.5)\n",
            "Requirement already satisfied: requests in /usr/local/lib/python3.10/dist-packages (from flask-ngrok) (2.32.3)\n",
            "Requirement already satisfied: Werkzeug>=2.2.2 in /usr/local/lib/python3.10/dist-packages (from Flask>=0.8->flask-ngrok) (3.0.4)\n",
            "Requirement already satisfied: Jinja2>=3.0 in /usr/local/lib/python3.10/dist-packages (from Flask>=0.8->flask-ngrok) (3.1.4)\n",
            "Requirement already satisfied: itsdangerous>=2.0 in /usr/local/lib/python3.10/dist-packages (from Flask>=0.8->flask-ngrok) (2.2.0)\n",
            "Requirement already satisfied: click>=8.0 in /usr/local/lib/python3.10/dist-packages (from Flask>=0.8->flask-ngrok) (8.1.7)\n",
            "Requirement already satisfied: charset-normalizer<4,>=2 in /usr/local/lib/python3.10/dist-packages (from requests->flask-ngrok) (3.3.2)\n",
            "Requirement already satisfied: idna<4,>=2.5 in /usr/local/lib/python3.10/dist-packages (from requests->flask-ngrok) (3.10)\n",
            "Requirement already satisfied: urllib3<3,>=1.21.1 in /usr/local/lib/python3.10/dist-packages (from requests->flask-ngrok) (2.2.3)\n",
            "Requirement already satisfied: certifi>=2017.4.17 in /usr/local/lib/python3.10/dist-packages (from requests->flask-ngrok) (2024.8.30)\n",
            "Requirement already satisfied: MarkupSafe>=2.0 in /usr/local/lib/python3.10/dist-packages (from Jinja2>=3.0->Flask>=0.8->flask-ngrok) (2.1.5)\n",
            "Downloading flask_ngrok-0.0.25-py3-none-any.whl (3.1 kB)\n",
            "Installing collected packages: flask-ngrok\n",
            "Successfully installed flask-ngrok-0.0.25\n"
          ]
        }
      ]
    },
    {
      "cell_type": "code",
      "source": [
        "app.run()\n"
      ],
      "metadata": {
        "colab": {
          "base_uri": "https://localhost:8080/"
        },
        "id": "yaC_VtysAqrf",
        "outputId": "8e42818d-702d-4faf-b833-e84ac208ac32"
      },
      "execution_count": 40,
      "outputs": [
        {
          "output_type": "stream",
          "name": "stdout",
          "text": [
            " * Serving Flask app '__main__'\n",
            " * Debug mode: on\n"
          ]
        },
        {
          "output_type": "stream",
          "name": "stderr",
          "text": [
            "INFO:werkzeug:\u001b[31m\u001b[1mWARNING: This is a development server. Do not use it in a production deployment. Use a production WSGI server instead.\u001b[0m\n",
            " * Running on http://127.0.0.1:5000\n",
            "INFO:werkzeug:\u001b[33mPress CTRL+C to quit\u001b[0m\n",
            "INFO:werkzeug: * Restarting with watchdog (inotify)\n"
          ]
        }
      ]
    },
    {
      "cell_type": "code",
      "source": [
        "import os\n",
        "app.secret_key = os.urandom(24)  # Generate a random secret key\n"
      ],
      "metadata": {
        "id": "cuDTJGDD_Sqz"
      },
      "execution_count": 35,
      "outputs": []
    },
    {
      "cell_type": "code",
      "source": [
        "from google.colab import files\n",
        "\n",
        "# Download the CSV file\n",
        "files.download('sql_queries_dataset.csv')\n"
      ],
      "metadata": {
        "colab": {
          "base_uri": "https://localhost:8080/",
          "height": 17
        },
        "id": "Z0t-9lDUNDNP",
        "outputId": "a41732d7-e138-40b8-dfe2-bacadaf3acdb"
      },
      "execution_count": null,
      "outputs": [
        {
          "output_type": "display_data",
          "data": {
            "text/plain": [
              "<IPython.core.display.Javascript object>"
            ],
            "application/javascript": [
              "\n",
              "    async function download(id, filename, size) {\n",
              "      if (!google.colab.kernel.accessAllowed) {\n",
              "        return;\n",
              "      }\n",
              "      const div = document.createElement('div');\n",
              "      const label = document.createElement('label');\n",
              "      label.textContent = `Downloading \"${filename}\": `;\n",
              "      div.appendChild(label);\n",
              "      const progress = document.createElement('progress');\n",
              "      progress.max = size;\n",
              "      div.appendChild(progress);\n",
              "      document.body.appendChild(div);\n",
              "\n",
              "      const buffers = [];\n",
              "      let downloaded = 0;\n",
              "\n",
              "      const channel = await google.colab.kernel.comms.open(id);\n",
              "      // Send a message to notify the kernel that we're ready.\n",
              "      channel.send({})\n",
              "\n",
              "      for await (const message of channel.messages) {\n",
              "        // Send a message to notify the kernel that we're ready.\n",
              "        channel.send({})\n",
              "        if (message.buffers) {\n",
              "          for (const buffer of message.buffers) {\n",
              "            buffers.push(buffer);\n",
              "            downloaded += buffer.byteLength;\n",
              "            progress.value = downloaded;\n",
              "          }\n",
              "        }\n",
              "      }\n",
              "      const blob = new Blob(buffers, {type: 'application/binary'});\n",
              "      const a = document.createElement('a');\n",
              "      a.href = window.URL.createObjectURL(blob);\n",
              "      a.download = filename;\n",
              "      div.appendChild(a);\n",
              "      a.click();\n",
              "      div.remove();\n",
              "    }\n",
              "  "
            ]
          },
          "metadata": {}
        },
        {
          "output_type": "display_data",
          "data": {
            "text/plain": [
              "<IPython.core.display.Javascript object>"
            ],
            "application/javascript": [
              "download(\"download_34a6bfc3-df02-46f8-b0e4-c8520b151bc6\", \"sql_queries_dataset.csv\", 124055)"
            ]
          },
          "metadata": {}
        }
      ]
    }
  ]
}